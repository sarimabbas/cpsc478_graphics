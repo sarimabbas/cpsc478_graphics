{
 "cells": [
  {
   "cell_type": "code",
   "execution_count": 99,
   "metadata": {},
   "outputs": [],
   "source": [
    "import matplotlib.pyplot as plt\n",
    "from matplotlib import cm\n",
    "import numpy as np\n",
    "import string\n"
   ]
  },
  {
   "cell_type": "code",
   "execution_count": 100,
   "metadata": {},
   "outputs": [],
   "source": [
    "# points a, b, c, d\n",
    "a, b, c, d = (-1, 1), (1, 1), (1, -1), (-1, -1)\n",
    "\n",
    "# matrix with row vectors of points\n",
    "A = np.array([a, b, c, d])\n",
    "\n",
    "# 2x2 Identity transformation matrix\n",
    "I = np.eye(2)"
   ]
  },
  {
   "cell_type": "code",
   "execution_count": 101,
   "metadata": {},
   "outputs": [
    {
     "ename": "SyntaxError",
     "evalue": "invalid syntax (<ipython-input-101-a9917d6c3060>, line 4)",
     "output_type": "error",
     "traceback": [
      "\u001b[0;36m  File \u001b[0;32m\"<ipython-input-101-a9917d6c3060>\"\u001b[0;36m, line \u001b[0;32m4\u001b[0m\n\u001b[0;31m    compose =   @ I\u001b[0m\n\u001b[0m                ^\u001b[0m\n\u001b[0;31mSyntaxError\u001b[0m\u001b[0;31m:\u001b[0m invalid syntax\n"
     ]
    }
   ],
   "source": [
    "T_rotate = np.array([[0.707, 0.707], [-0.707, 0.707]])\n",
    "T_scale = np.array([[1.5, 0], [0, 1]])\n",
    "T_inverse_rotate = T_rotate.T\n",
    "compose =   I\n",
    "\n",
    "\n",
    "p_diag = 1.5\n",
    "derived = np.array([[0.5*p_diag + 0.5, 0.5*p_diag - 0.5], [0.5*p_diag - 0.5, 0.5*p_diag + 0.5]])\n",
    "\n",
    "fig = plt.figure()\n",
    "ax = plt.gca()\n",
    "xs_s = []\n",
    "ys_s = []\n",
    "\n",
    "colors = cm.rainbow(np.linspace(0, 1, 4))\n",
    "for index, row in enumerate(A):\n",
    "    output_row = derived @ row\n",
    "    x, y = row\n",
    "    x_s, y_s = output_row\n",
    "    xs_s.append(x_s)\n",
    "    ys_s.append(y_s)\n",
    "    plt.scatter(x, y, color=colors[index])\n",
    "    plt.scatter(x_s, y_s, color=colors[index])\n",
    "\n",
    "xs_s.append(xs_s[0])\n",
    "ys_s.append(ys_s[0])\n",
    "plt.plot(xs, ys, color=\"gray\", linestyle='dotted')\n",
    "plt.plot(xs_s, ys_s, color=\"gray\", linestyle='dotted')\n",
    "\n",
    "x_range = np.arange(-4, 4, 0.5)\n",
    "plt.plot(x_range, x_range, color=\"blue\")\n",
    "plt.plot(x_range, -x_range, color=\"red\")\n",
    "ax.set_xticks(x_range)\n",
    "ax.set_yticks(x_range)\n",
    "\n",
    "\n",
    "plt.gca().set_aspect('equal', adjustable='box')\n",
    "plt.grid()\n",
    "plt.show()"
   ]
  },
  {
   "cell_type": "code",
   "execution_count": null,
   "metadata": {},
   "outputs": [],
   "source": []
  },
  {
   "cell_type": "code",
   "execution_count": null,
   "metadata": {},
   "outputs": [],
   "source": []
  }
 ],
 "metadata": {
  "kernelspec": {
   "display_name": "Python 3",
   "language": "python",
   "name": "python3"
  },
  "language_info": {
   "codemirror_mode": {
    "name": "ipython",
    "version": 3
   },
   "file_extension": ".py",
   "mimetype": "text/x-python",
   "name": "python",
   "nbconvert_exporter": "python",
   "pygments_lexer": "ipython3",
   "version": "3.7.5"
  }
 },
 "nbformat": 4,
 "nbformat_minor": 4
}
